{
 "cells": [
  {
   "cell_type": "markdown",
   "id": "908fe961",
   "metadata": {},
   "source": [
    "# Python Assignment No : 2"
   ]
  },
  {
   "cell_type": "code",
   "execution_count": 2,
   "id": "5dcb49ca",
   "metadata": {},
   "outputs": [],
   "source": [
    "# 1.Write the python program to convert kilometers to miles"
   ]
  },
  {
   "cell_type": "code",
   "execution_count": 3,
   "id": "6fb53ace",
   "metadata": {},
   "outputs": [
    {
     "name": "stdout",
     "output_type": "stream",
     "text": [
      "Enter the distance : 10\n",
      "km to mile is 6.2137119\n"
     ]
    }
   ],
   "source": [
    "km= float(input(\"Enter the distance : \"))\n",
    "km_to_mile= 0.62137119 * km\n",
    "print(\"km to mile is\",km_to_mile)"
   ]
  },
  {
   "cell_type": "code",
   "execution_count": 1,
   "id": "e2f63869",
   "metadata": {},
   "outputs": [],
   "source": [
    "# Write a program to covert celsius to fahrenheit?"
   ]
  },
  {
   "cell_type": "code",
   "execution_count": 5,
   "id": "9301f68e",
   "metadata": {},
   "outputs": [
    {
     "name": "stdout",
     "output_type": "stream",
     "text": [
      "Enter the temperature in celcius: 12\n",
      " temperature in Fahrenheit 53.6\n"
     ]
    }
   ],
   "source": [
    "temp_cel=float(input(\"Enter the temperature in celcius: \"))\n",
    "temp_far= temp_cel*9/5+32\n",
    "print(\" temperature in Fahrenheit\",temp_far)"
   ]
  },
  {
   "cell_type": "code",
   "execution_count": 6,
   "id": "eb9ff0fb",
   "metadata": {},
   "outputs": [],
   "source": [
    "#Write a python program to display calender"
   ]
  },
  {
   "cell_type": "code",
   "execution_count": 8,
   "id": "4c827b16",
   "metadata": {},
   "outputs": [
    {
     "name": "stdout",
     "output_type": "stream",
     "text": [
      "     June 2023\n",
      "Mo Tu We Th Fr Sa Su\n",
      "          1  2  3  4\n",
      " 5  6  7  8  9 10 11\n",
      "12 13 14 15 16 17 18\n",
      "19 20 21 22 23 24 25\n",
      "26 27 28 29 30\n",
      "\n"
     ]
    }
   ],
   "source": [
    "import calendar\n",
    "print(calendar.month(2023,6))"
   ]
  },
  {
   "cell_type": "code",
   "execution_count": 9,
   "id": "a7d3fb7a",
   "metadata": {},
   "outputs": [
    {
     "name": "stdout",
     "output_type": "stream",
     "text": [
      "                                  2023\n",
      "\n",
      "      January                   February                   March\n",
      "Mo Tu We Th Fr Sa Su      Mo Tu We Th Fr Sa Su      Mo Tu We Th Fr Sa Su\n",
      "                   1             1  2  3  4  5             1  2  3  4  5\n",
      " 2  3  4  5  6  7  8       6  7  8  9 10 11 12       6  7  8  9 10 11 12\n",
      " 9 10 11 12 13 14 15      13 14 15 16 17 18 19      13 14 15 16 17 18 19\n",
      "16 17 18 19 20 21 22      20 21 22 23 24 25 26      20 21 22 23 24 25 26\n",
      "23 24 25 26 27 28 29      27 28                     27 28 29 30 31\n",
      "30 31\n",
      "\n",
      "       April                      May                       June\n",
      "Mo Tu We Th Fr Sa Su      Mo Tu We Th Fr Sa Su      Mo Tu We Th Fr Sa Su\n",
      "                1  2       1  2  3  4  5  6  7                1  2  3  4\n",
      " 3  4  5  6  7  8  9       8  9 10 11 12 13 14       5  6  7  8  9 10 11\n",
      "10 11 12 13 14 15 16      15 16 17 18 19 20 21      12 13 14 15 16 17 18\n",
      "17 18 19 20 21 22 23      22 23 24 25 26 27 28      19 20 21 22 23 24 25\n",
      "24 25 26 27 28 29 30      29 30 31                  26 27 28 29 30\n",
      "\n",
      "        July                     August                  September\n",
      "Mo Tu We Th Fr Sa Su      Mo Tu We Th Fr Sa Su      Mo Tu We Th Fr Sa Su\n",
      "                1  2          1  2  3  4  5  6                   1  2  3\n",
      " 3  4  5  6  7  8  9       7  8  9 10 11 12 13       4  5  6  7  8  9 10\n",
      "10 11 12 13 14 15 16      14 15 16 17 18 19 20      11 12 13 14 15 16 17\n",
      "17 18 19 20 21 22 23      21 22 23 24 25 26 27      18 19 20 21 22 23 24\n",
      "24 25 26 27 28 29 30      28 29 30 31               25 26 27 28 29 30\n",
      "31\n",
      "\n",
      "      October                   November                  December\n",
      "Mo Tu We Th Fr Sa Su      Mo Tu We Th Fr Sa Su      Mo Tu We Th Fr Sa Su\n",
      "                   1             1  2  3  4  5                   1  2  3\n",
      " 2  3  4  5  6  7  8       6  7  8  9 10 11 12       4  5  6  7  8  9 10\n",
      " 9 10 11 12 13 14 15      13 14 15 16 17 18 19      11 12 13 14 15 16 17\n",
      "16 17 18 19 20 21 22      20 21 22 23 24 25 26      18 19 20 21 22 23 24\n",
      "23 24 25 26 27 28 29      27 28 29 30               25 26 27 28 29 30 31\n",
      "30 31\n",
      "\n"
     ]
    }
   ],
   "source": [
    "print(calendar.calendar(2023))"
   ]
  },
  {
   "cell_type": "code",
   "execution_count": 10,
   "id": "0c5307ed",
   "metadata": {},
   "outputs": [
    {
     "name": "stdout",
     "output_type": "stream",
     "text": [
      "                June 2023\n",
      " Mon   Tue   Wed   Thu   Fri   Sat   Sun\n",
      "                     1     2     3     4\n",
      "   5     6     7     8     9    10    11\n",
      "  12    13    14    15    16    17    18\n",
      "  19    20    21    22    23    24    25\n",
      "  26    27    28    29    30\n",
      "\n"
     ]
    }
   ],
   "source": [
    "print(calendar.month(2023,6,w=5))"
   ]
  },
  {
   "cell_type": "code",
   "execution_count": 11,
   "id": "5892def9",
   "metadata": {},
   "outputs": [],
   "source": [
    "# Write a program to solve Quadratic Equation"
   ]
  },
  {
   "cell_type": "code",
   "execution_count": 13,
   "id": "93a887ed",
   "metadata": {},
   "outputs": [],
   "source": [
    "import cmath\n"
   ]
  },
  {
   "cell_type": "code",
   "execution_count": 14,
   "id": "2c5e9077",
   "metadata": {},
   "outputs": [
    {
     "name": "stdout",
     "output_type": "stream",
     "text": [
      "Enter the value of a!=0 : 4\n",
      "Enter the value of b : 2\n",
      "Enter the value of c :5\n",
      "\n",
      "\n",
      "Quadratic Equation,4x**2+2x+5=0\n",
      "roots are complex root\n",
      "The solution are (-0.25-1.0897247358851685j) and (-0.25-1.0897247358851685j)\n"
     ]
    }
   ],
   "source": [
    "a=int(input(\"Enter the value of a!=0 : \"))\n",
    "b=int(input(\"Enter the value of b : \"))\n",
    "c=int(input(\"Enter the value of c :\"))\n",
    "dis= (b**2)-(4*a*c)\n",
    "root1= (-b-cmath.sqrt(dis))/(2*a)\n",
    "root2= (-b+cmath.sqrt(dis))/(2*a)\n",
    "print(\"\\n\")\n",
    "print(\"Quadratic Equation,{}x**2+{}x+{}=0\".format(a,b,c))\n",
    "if dis>0:\n",
    "    print(\"roots are distinct real root\")\n",
    "elif dis==0:\n",
    "    print(\"roots are real and equal root\")\n",
    "else:\n",
    "    print(\"roots are complex root\")\n",
    "    \n",
    "print(\"The root are {} and {}\".format(root1,root1))"
   ]
  },
  {
   "cell_type": "code",
   "execution_count": 15,
   "id": "ea4c8c5a",
   "metadata": {},
   "outputs": [],
   "source": [
    "#Write a program to swap  two variable without temp variable"
   ]
  },
  {
   "cell_type": "code",
   "execution_count": 18,
   "id": "fb3e5ecb",
   "metadata": {},
   "outputs": [
    {
     "name": "stdout",
     "output_type": "stream",
     "text": [
      "enter the value of x : 10\n",
      "enter the value of y : 20\n",
      " value of x is 20\n",
      " value of y is 10\n"
     ]
    }
   ],
   "source": [
    "x=int(input(\"enter the value of x : \"))\n",
    "y=int(input(\"enter the value of y : \"))\n",
    "x,y=y,x\n",
    "print(\" value of x is\",x)\n",
    "print(\" value of y is\",y)"
   ]
  },
  {
   "cell_type": "code",
   "execution_count": null,
   "id": "ee9af6b8",
   "metadata": {},
   "outputs": [],
   "source": []
  }
 ],
 "metadata": {
  "kernelspec": {
   "display_name": "Python 3 (ipykernel)",
   "language": "python",
   "name": "python3"
  },
  "language_info": {
   "codemirror_mode": {
    "name": "ipython",
    "version": 3
   },
   "file_extension": ".py",
   "mimetype": "text/x-python",
   "name": "python",
   "nbconvert_exporter": "python",
   "pygments_lexer": "ipython3",
   "version": "3.9.13"
  }
 },
 "nbformat": 4,
 "nbformat_minor": 5
}
