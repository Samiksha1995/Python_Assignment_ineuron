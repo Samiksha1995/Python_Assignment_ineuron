{
 "cells": [
  {
   "cell_type": "code",
   "execution_count": null,
   "id": "3b682c27",
   "metadata": {},
   "outputs": [],
   "source": [
    "#Python Assignment no: 8"
   ]
  },
  {
   "cell_type": "code",
   "execution_count": 1,
   "id": "9cdde51c",
   "metadata": {},
   "outputs": [],
   "source": [
    "#Write a python program to add Matrices"
   ]
  },
  {
   "cell_type": "code",
   "execution_count": 2,
   "id": "6308fb93",
   "metadata": {},
   "outputs": [],
   "source": [
    "import numpy as np"
   ]
  },
  {
   "cell_type": "code",
   "execution_count": 4,
   "id": "bab6f008",
   "metadata": {},
   "outputs": [
    {
     "name": "stdout",
     "output_type": "stream",
     "text": [
      "[[ 1  2  3]\n",
      " [ 4  5  6]\n",
      " [10 20 30]]\n",
      "[[23 24 25]\n",
      " [12 23 14]\n",
      " [45 34 20]]\n",
      "addition of two matxix\n",
      "[[24 26 28]\n",
      " [16 28 20]\n",
      " [55 54 50]]\n"
     ]
    }
   ],
   "source": [
    "a=[[1,2,3],[4,5,6],[10,20,30]]\n",
    "b=[[23,24,25],[12,23,14],[45,34,20]]\n",
    "arr1=np.array(a)\n",
    "print(arr1)\n",
    "arr2=np.array(b)\n",
    "print(arr2)\n",
    "print(\"addition of two matxix\")\n",
    "add=arr1+arr2\n",
    "print(add)"
   ]
  },
  {
   "cell_type": "code",
   "execution_count": null,
   "id": "23c52f25",
   "metadata": {},
   "outputs": [],
   "source": [
    "#Write a python program to multiply two matrices"
   ]
  },
  {
   "cell_type": "code",
   "execution_count": 6,
   "id": "d88eabcc",
   "metadata": {},
   "outputs": [
    {
     "name": "stdout",
     "output_type": "stream",
     "text": [
      "[[ 1  2  3]\n",
      " [ 4  5  6]\n",
      " [10 20 30]]\n",
      "[[23 24 25]\n",
      " [12 23 14]\n",
      " [45 34 20]]\n",
      "multiplication of two matxix\n",
      "[[ 23  48  75]\n",
      " [ 48 115  84]\n",
      " [450 680 600]]\n"
     ]
    }
   ],
   "source": [
    "x=[[1,2,3],[4,5,6],[10,20,30]]\n",
    "y=[[23,24,25],[12,23,14],[45,34,20]]\n",
    "array1=np.array(x)\n",
    "print(array1)\n",
    "array2=np.array(y)\n",
    "print(array2)\n",
    "print(\"multiplication of two matxix\")\n",
    "product=arr1*arr2\n",
    "print(product)"
   ]
  },
  {
   "cell_type": "code",
   "execution_count": null,
   "id": "0c6e5e8a",
   "metadata": {},
   "outputs": [],
   "source": [
    "Write a python program to Transpose a Matrix."
   ]
  },
  {
   "cell_type": "code",
   "execution_count": 8,
   "id": "193954fb",
   "metadata": {},
   "outputs": [
    {
     "name": "stdout",
     "output_type": "stream",
     "text": [
      "[[ 1  2  3]\n",
      " [ 4  5  6]\n",
      " [10 20 30]]\n",
      "transpose of matrix\n",
      "[[ 1  4 10]\n",
      " [ 2  5 20]\n",
      " [ 3  6 30]]\n"
     ]
    }
   ],
   "source": [
    "x=[[1,2,3],[4,5,6],[10,20,30]]\n",
    "arr=np.array(x)\n",
    "print(arr)\n",
    "print(\"transpose of matrix\")\n",
    "trans=arr.transpose()\n",
    "print(trans)"
   ]
  },
  {
   "cell_type": "code",
   "execution_count": null,
   "id": "5069bede",
   "metadata": {},
   "outputs": [],
   "source": [
    "#Write a python program to sort a word in alphabetic order?"
   ]
  },
  {
   "cell_type": "code",
   "execution_count": 13,
   "id": "95e568a5",
   "metadata": {},
   "outputs": [
    {
     "name": "stdout",
     "output_type": "stream",
     "text": [
      "['h', 'a', 'p', 'p', 'y', ' ', 'b', 'i', 'r', 't', 'h', 'd', 'a', 'y']\n",
      "[' ', 'a', 'a', 'b', 'd', 'h', 'h', 'i', 'p', 'p', 'r', 't', 'y', 'y']\n"
     ]
    }
   ],
   "source": [
    "word=list(\"happy birthday\")\n",
    "print(word)\n",
    "word.sort()\n",
    "print(word)"
   ]
  },
  {
   "cell_type": "code",
   "execution_count": 22,
   "id": "1750ef00",
   "metadata": {},
   "outputs": [
    {
     "name": "stdout",
     "output_type": "stream",
     "text": [
      "['this', 'is', 'my', 'eight', 'python', 'assignment']\n",
      "['assignment', 'eight', 'is', 'my', 'python', 'this']\n"
     ]
    }
   ],
   "source": [
    "#example two\n",
    "sen=\"This is my eight python assignment\"\n",
    "words=sen.lower().split()\n",
    "print(words)\n",
    "words.sort()\n",
    "print(words)\n"
   ]
  },
  {
   "cell_type": "code",
   "execution_count": null,
   "id": "0fdfa61c",
   "metadata": {},
   "outputs": [],
   "source": [
    "#Write a python program to remove punctuation fron string?"
   ]
  },
  {
   "cell_type": "code",
   "execution_count": 26,
   "id": "08114f7c",
   "metadata": {},
   "outputs": [
    {
     "name": "stdout",
     "output_type": "stream",
     "text": [
      "Enter your string with punctuation hey!! are you ok?? let's join us(:\n",
      "hey are you ok lets join us\n"
     ]
    }
   ],
   "source": [
    "puct='''()!@#$%^&*_<>?\"\"::;''{}[]'''\n",
    "Str=input(\"Enter your string with punctuation \")\n",
    "my_sens=\"\"\n",
    "for i in Str:\n",
    "    if i not in puct:\n",
    "        my_sens=my_sens +i\n",
    "print(my_sens)\n",
    "        "
   ]
  },
  {
   "cell_type": "code",
   "execution_count": null,
   "id": "03b4a326",
   "metadata": {},
   "outputs": [],
   "source": []
  }
 ],
 "metadata": {
  "kernelspec": {
   "display_name": "Python 3 (ipykernel)",
   "language": "python",
   "name": "python3"
  },
  "language_info": {
   "codemirror_mode": {
    "name": "ipython",
    "version": 3
   },
   "file_extension": ".py",
   "mimetype": "text/x-python",
   "name": "python",
   "nbconvert_exporter": "python",
   "pygments_lexer": "ipython3",
   "version": "3.9.13"
  }
 },
 "nbformat": 4,
 "nbformat_minor": 5
}
