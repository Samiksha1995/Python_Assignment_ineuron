{
 "cells": [
  {
   "cell_type": "markdown",
   "id": "b03dcefb",
   "metadata": {},
   "source": [
    "# PYTHON_ASSIGNMENT_NO_7"
   ]
  },
  {
   "cell_type": "code",
   "execution_count": null,
   "id": "d2934e55",
   "metadata": {},
   "outputs": [],
   "source": [
    "#Write a python program to find sum of array:"
   ]
  },
  {
   "cell_type": "code",
   "execution_count": 3,
   "id": "e6f9f32b",
   "metadata": {},
   "outputs": [
    {
     "name": "stdout",
     "output_type": "stream",
     "text": [
      "sum of array =  45\n"
     ]
    }
   ],
   "source": [
    "arr=[1,2,3,4,5,6,7,8,9]\n",
    "sum1=sum(arr)\n",
    "print(\"sum of array = \",sum1)"
   ]
  },
  {
   "cell_type": "code",
   "execution_count": 5,
   "id": "6565b950",
   "metadata": {},
   "outputs": [
    {
     "name": "stdout",
     "output_type": "stream",
     "text": [
      "enter the value of n : 3\n",
      "10\n",
      "20\n",
      "30\n",
      "result 60\n"
     ]
    }
   ],
   "source": [
    "lst=[]\n",
    "n=int(input(\"enter the value of n : \"))\n",
    "for i in range(0,n):\n",
    "    t=int(input())\n",
    "    lst.append(t)\n",
    "sm=0\n",
    "for el in lst:\n",
    "    sm=sm+el\n",
    "print(\"result\",sm)\n",
    "    "
   ]
  },
  {
   "cell_type": "code",
   "execution_count": 7,
   "id": "91f7e941",
   "metadata": {},
   "outputs": [
    {
     "name": "stdout",
     "output_type": "stream",
     "text": [
      "maximun no in array:  876\n"
     ]
    }
   ],
   "source": [
    "# Write a python program to find largest element in array\n",
    "lst1=[1,23,34,56,78,90,876]\n",
    "maximum=max(lst1)\n",
    "print(\"maximun no in array: \",maximum)"
   ]
  },
  {
   "cell_type": "code",
   "execution_count": 3,
   "id": "88ebe740",
   "metadata": {},
   "outputs": [
    {
     "name": "stdout",
     "output_type": "stream",
     "text": [
      "enter the how many elemant you want to be in list: 4\n",
      "12\n",
      "15\n",
      "78\n",
      "64\n",
      "[12, 15, 78, 64]\n",
      "maximum value in an aaray is 78\n"
     ]
    }
   ],
   "source": [
    "arr=[]\n",
    "n=int(input(\"enter the how many elemant you want to be in list: \"))\n",
    "for i in range(n):\n",
    "    ele=int(input(\"\"))\n",
    "    arr.append(ele)\n",
    "print(arr)\n",
    "maximum=arr[0]\n",
    "for i in range(1,n):\n",
    "    if maximum<arr[i]:\n",
    "        maximum=arr[i]\n",
    "print(\"maximum value in an aaray is\",maximum)\n",
    "    \n",
    "    "
   ]
  },
  {
   "cell_type": "code",
   "execution_count": 4,
   "id": "ae336a67",
   "metadata": {},
   "outputs": [],
   "source": [
    "#Write a python program for array rotation\n"
   ]
  },
  {
   "cell_type": "code",
   "execution_count": 10,
   "id": "7d3644b7",
   "metadata": {},
   "outputs": [
    {
     "name": "stdout",
     "output_type": "stream",
     "text": [
      "enter the size of array: 4\n",
      "10\n",
      "20\n",
      "30\n",
      "40\n",
      "original list is:  [10, 20, 30, 40]\n",
      "Enter the number of position want to shift the element in arr: 2\n",
      "modified list is [30, 40, 10, 20]\n"
     ]
    }
   ],
   "source": [
    "a=[]\n",
    "size=int(input(\"enter the size of array: \"))\n",
    "for i in range(size):\n",
    "    ele=int(input(\"\"))\n",
    "    a.append(ele)\n",
    "print(\"original list is: \",a)\n",
    "shift=int(input(\"Enter the number of position want to shift the element in arr: \"))\n",
    "for i in range(shift):\n",
    "    x=a[0]\n",
    "    for count in range(1,size):\n",
    "        a[count-1]=a[count]\n",
    "    a[size-1]=x\n",
    "print(\"modified list after shifing is\",a)"
   ]
  },
  {
   "cell_type": "code",
   "execution_count": null,
   "id": "9e700eb6",
   "metadata": {},
   "outputs": [],
   "source": [
    "#Write a python program to split the array and add the first part to the end?"
   ]
  },
  {
   "cell_type": "code",
   "execution_count": 18,
   "id": "469959f0",
   "metadata": {},
   "outputs": [
    {
     "name": "stdout",
     "output_type": "stream",
     "text": [
      "enter how many ele you want to add in list 6\n",
      "1\n",
      "2\n",
      "3\n",
      "4\n",
      "5\n",
      "6\n",
      "[1, 2, 3, 4, 5, 6]\n",
      "no you want to split: 2\n",
      "modified list after shifing is [3, 4, 5, 6, 1, 2]\n"
     ]
    }
   ],
   "source": [
    "lst=[]\n",
    "val=int(input(\"enter how many ele you want to add in list \"))\n",
    "for i in range(val):\n",
    "    num=int(input(\"\"))\n",
    "    lst.append(num)\n",
    "print(lst)\n",
    "shift=int(input(\"no you want to split: \"))\n",
    "for i in range(shift):\n",
    "    x=lst[0]\n",
    "    for count in range(1,val):\n",
    "        lst[count-1]=lst[count]\n",
    "    lst[val-1]=x\n",
    "print(\"modified list after shifing is\",lst)\n"
   ]
  },
  {
   "cell_type": "code",
   "execution_count": null,
   "id": "ec75b193",
   "metadata": {},
   "outputs": [],
   "source": [
    "#Write a python program to check the given number is monotonic"
   ]
  },
  {
   "cell_type": "code",
   "execution_count": 22,
   "id": "a86530a2",
   "metadata": {},
   "outputs": [
    {
     "name": "stdout",
     "output_type": "stream",
     "text": [
      "True\n"
     ]
    }
   ],
   "source": [
    "def isMonotonic(A):\n",
    "    x, y = [], []\n",
    "    x.extend(A)\n",
    "    y.extend(A)\n",
    "    x.sort()\n",
    "    y.sort(reverse=True)\n",
    "    if(x == A or y == A):\n",
    "        return True\n",
    "    return False\n",
    "# Driver program\n",
    "A = [6, 5, 4, 4]\n",
    " \n",
    "# Print required result\n",
    "print(isMonotonic(A))\n",
    " "
   ]
  }
 ],
 "metadata": {
  "kernelspec": {
   "display_name": "Python 3 (ipykernel)",
   "language": "python",
   "name": "python3"
  },
  "language_info": {
   "codemirror_mode": {
    "name": "ipython",
    "version": 3
   },
   "file_extension": ".py",
   "mimetype": "text/x-python",
   "name": "python",
   "nbconvert_exporter": "python",
   "pygments_lexer": "ipython3",
   "version": "3.9.13"
  }
 },
 "nbformat": 4,
 "nbformat_minor": 5
}
