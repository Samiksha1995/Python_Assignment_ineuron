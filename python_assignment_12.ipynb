{
 "cells": [
  {
   "cell_type": "markdown",
   "id": "3f96f47e",
   "metadata": {},
   "source": [
    "# Python Assignment no:12"
   ]
  },
  {
   "cell_type": "markdown",
   "id": "2d143330",
   "metadata": {},
   "source": [
    "Write a python program to extract Unique values dictionary values?"
   ]
  },
  {
   "cell_type": "code",
   "execution_count": 9,
   "id": "a7c0f208",
   "metadata": {},
   "outputs": [
    {
     "name": "stdout",
     "output_type": "stream",
     "text": [
      "{1: 'samiksha', 2: 'snehal', 3: 'sweta', 4: 'samiksha', 5: 'shobha', 6: 'suresh'}\n",
      "{'suresh', 'sweta', 'snehal', 'samiksha', 'shobha'}\n"
     ]
    }
   ],
   "source": [
    "Student_detail={1:\"samiksha\",2:\"snehal\",3:\"sweta\",4:\"samiksha\",5:\"shobha\",6:\"suresh\"}\n",
    "print(Student_detail)\n",
    "unique=(set(Student_detail.values()))    #set provide unique values from dictionary\n",
    "print(unique)"
   ]
  },
  {
   "cell_type": "markdown",
   "id": "b5ef3ef2",
   "metadata": {},
   "source": [
    "Write the python program to find the sum of all items in a dictionary?"
   ]
  },
  {
   "cell_type": "code",
   "execution_count": 11,
   "id": "2d5d920e",
   "metadata": {},
   "outputs": [
    {
     "name": "stdout",
     "output_type": "stream",
     "text": [
      "sum of all item in dict is:  80\n"
     ]
    }
   ],
   "source": [
    "dict1={'a':23,'b':45,'c':12}\n",
    "sum=0\n",
    "for i in dict1.values():\n",
    "    sum=sum+i\n",
    "print(\"sum of all item in dict is: \",sum)"
   ]
  },
  {
   "cell_type": "markdown",
   "id": "68044118",
   "metadata": {},
   "source": [
    "Write a python program to merging two dictionaries?"
   ]
  },
  {
   "cell_type": "code",
   "execution_count": 18,
   "id": "f69c2060",
   "metadata": {},
   "outputs": [
    {
     "name": "stdout",
     "output_type": "stream",
     "text": [
      "{'samiksha': 80, 'satish': 76, 'vishal': 90, 'neha': 56, 'mayur': 70}\n"
     ]
    }
   ],
   "source": [
    "#using | (bar) operator\n",
    "dic1={\"samiksha\":80,\"satish\":76,\"vishal\":90}\n",
    "dic2={\"samiksha\":80,\"neha\":56,\"mayur\":70}\n",
    "print(dic1 | dic2)    #samiksha overwrite to new value ie 80 "
   ]
  },
  {
   "cell_type": "code",
   "execution_count": 23,
   "id": "8ffc3633",
   "metadata": {},
   "outputs": [
    {
     "name": "stdout",
     "output_type": "stream",
     "text": [
      "{'samiksha': 80, 'satish': 76, 'vishal': 90, 'neha': 56, 'mayur': 70}\n"
     ]
    }
   ],
   "source": [
    "#using(**) operator\n",
    "dic1={\"samiksha\":80,\"satish\":76,\"vishal\":90}\n",
    "dic2={\"samiksha\":80,\"neha\":56,\"mayur\":70}\n",
    "print({**dic1, **dic2}) "
   ]
  },
  {
   "cell_type": "code",
   "execution_count": 25,
   "id": "e72f1a57",
   "metadata": {},
   "outputs": [
    {
     "name": "stdout",
     "output_type": "stream",
     "text": [
      "{'samiksha': 80, 'neha': 56, 'mayur': 70, 'satish': 76, 'vishal': 90}\n"
     ]
    }
   ],
   "source": [
    "#copy() and update()\n",
    "dic1={\"samiksha\":80,\"satish\":76,\"vishal\":90}\n",
    "dic2={\"samiksha\":80,\"neha\":56,\"mayur\":70}\n",
    "dict3=dic2.copy()\n",
    "dict3.update(dic1)\n",
    "print(dict3)"
   ]
  },
  {
   "cell_type": "markdown",
   "id": "eb6af2ca",
   "metadata": {},
   "source": [
    "Write a python program to convert key-values list to flat dictionary?"
   ]
  },
  {
   "cell_type": "code",
   "execution_count": 26,
   "id": "cf69daa1",
   "metadata": {},
   "outputs": [
    {
     "name": "stdout",
     "output_type": "stream",
     "text": [
      "The dictionary is : \n",
      "{'month_num': [1, 2, 3, 4, 5, 6], 'name_of_month': ['Jan', 'Feb', 'March', 'Apr', 'May', 'June']}\n",
      "The flattened dictionary is: \n",
      "{1: 'Jan', 2: 'Feb', 3: 'March', 4: 'Apr', 5: 'May', 6: 'June'}\n"
     ]
    }
   ],
   "source": [
    "my_dict = {'month_num' : [1, 2, 3, 4, 5, 6], 'name_of_month' : ['Jan', 'Feb', 'March', 'Apr', 'May', 'June']}\n",
    "\n",
    "print(\"The dictionary is : \")\n",
    "print(my_dict)\n",
    "\n",
    "my_result = dict(zip(my_dict['month_num'], my_dict['name_of_month']))\n",
    "\n",
    "print(\"The flattened dictionary is: \")\n",
    "print(my_result)"
   ]
  },
  {
   "cell_type": "markdown",
   "id": "be8f982b",
   "metadata": {},
   "source": [
    "Write a python program to insertion at the beginning in OrderedDict?"
   ]
  },
  {
   "cell_type": "code",
   "execution_count": 27,
   "id": "ded34479",
   "metadata": {},
   "outputs": [
    {
     "name": "stdout",
     "output_type": "stream",
     "text": [
      "OrderedDict([('A', '100'), ('B', '200'), ('C', '300'), ('D', '400')])\n",
      "Resultant Dictionary :\n",
      "OrderedDict([('D', '400'), ('A', '100'), ('B', '200'), ('C', '300')])\n"
     ]
    }
   ],
   "source": [
    "from collections import OrderedDict  \n",
    "dic1 = OrderedDict([('A', '100'), ('B', '200'), ('C', '300')])\n",
    "\n",
    "dic1.update({\"D\": '400'})\n",
    "print(dic1)\n",
    "\n",
    "dic1.move_to_end(\"D\", last=False)\n",
    "  \n",
    "\n",
    "print (\"Resultant Dictionary :\")\n",
    "print(dic1)\n"
   ]
  },
  {
   "cell_type": "markdown",
   "id": "254cdee7",
   "metadata": {},
   "source": [
    "Write a python program to check order of character string using OrderedDict()?"
   ]
  },
  {
   "cell_type": "code",
   "execution_count": 29,
   "id": "df28af8c",
   "metadata": {},
   "outputs": [
    {
     "name": "stdout",
     "output_type": "stream",
     "text": [
      "True\n"
     ]
    }
   ],
   "source": [
    "from collections import OrderedDict \n",
    "def checkOrder(string, pattern): \n",
    "    dic = OrderedDict.fromkeys(string) \n",
    "    ptr = 0\n",
    "    for key,value in dic.items(): \n",
    "        if (key == pattern[ptr]): \n",
    "            ptr = ptr + 1\n",
    "        if (ptr == (len(pattern))): \n",
    "            return 'True'\n",
    "    return 'False'\n",
    "\n",
    "string = 'Study tonight'\n",
    "pattern = 'Stu'\n",
    "print (checkOrder(string,pattern))"
   ]
  },
  {
   "cell_type": "markdown",
   "id": "1af92c7d",
   "metadata": {},
   "source": [
    "Write a python program to sort python Dictionaries by Key or Value?"
   ]
  },
  {
   "cell_type": "code",
   "execution_count": 30,
   "id": "48270cef",
   "metadata": {},
   "outputs": [
    {
     "name": "stdout",
     "output_type": "stream",
     "text": [
      "{'rajnish': 9, 'ravi': 10, 'sanjeev': 15, 'suraj': 32, 'yash': 2}\n"
     ]
    }
   ],
   "source": [
    "myDict = {'ravi': 10, 'rajnish': 9,\n",
    "        'sanjeev': 15, 'yash': 2, 'suraj': 32}\n",
    " \n",
    "myKeys = list(myDict.keys())\n",
    "myKeys.sort()\n",
    "sorted_dict = {i: myDict[i] for i in myKeys}\n",
    " \n",
    "print(sorted_dict)"
   ]
  },
  {
   "cell_type": "code",
   "execution_count": null,
   "id": "c1704b8e",
   "metadata": {},
   "outputs": [],
   "source": []
  }
 ],
 "metadata": {
  "kernelspec": {
   "display_name": "Python 3 (ipykernel)",
   "language": "python",
   "name": "python3"
  },
  "language_info": {
   "codemirror_mode": {
    "name": "ipython",
    "version": 3
   },
   "file_extension": ".py",
   "mimetype": "text/x-python",
   "name": "python",
   "nbconvert_exporter": "python",
   "pygments_lexer": "ipython3",
   "version": "3.9.13"
  }
 },
 "nbformat": 4,
 "nbformat_minor": 5
}
