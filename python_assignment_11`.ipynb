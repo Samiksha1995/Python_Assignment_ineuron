{
 "cells": [
  {
   "cell_type": "markdown",
   "id": "bd0a9a00",
   "metadata": {},
   "source": [
    "# Python Assignment No:11"
   ]
  },
  {
   "cell_type": "code",
   "execution_count": null,
   "id": "2194af97",
   "metadata": {},
   "outputs": [],
   "source": [
    "#Write a python program to find words which are greater than the given length K?"
   ]
  },
  {
   "cell_type": "code",
   "execution_count": 4,
   "id": "7d3f37e9",
   "metadata": {},
   "outputs": [
    {
     "name": "stdout",
     "output_type": "stream",
     "text": [
      "['Samiksha', 'Upcoming', 'analyst']\n"
     ]
    }
   ],
   "source": [
    "my_word=\"Hey I am Samiksha Upcoming data analyst\"\n",
    "split_word=my_word.split()\n",
    "k=5\n",
    "Hold_data=[]\n",
    "for i in split_word:\n",
    "    if (len(i))>k:\n",
    "         Hold_data.append(i)\n",
    "print(Hold_data)"
   ]
  },
  {
   "cell_type": "code",
   "execution_count": null,
   "id": "d554b790",
   "metadata": {},
   "outputs": [],
   "source": [
    "#Write a python program for removing i-th character from a string"
   ]
  },
  {
   "cell_type": "code",
   "execution_count": 6,
   "id": "0c0869af",
   "metadata": {},
   "outputs": [
    {
     "name": "stdout",
     "output_type": "stream",
     "text": [
      "enter the stringSamiksha\n",
      "enter the value of  i: 2\n",
      "Saiksha\n"
     ]
    }
   ],
   "source": [
    "s=input(\"enter the string \")\n",
    "n=int(input(\"enter the value of  i: \"))\n",
    "a=s[0:n]\n",
    "b=s[n+1:]\n",
    "result=a+b\n",
    "print(result)"
   ]
  },
  {
   "cell_type": "code",
   "execution_count": null,
   "id": "354c0ac5",
   "metadata": {},
   "outputs": [],
   "source": [
    "#Write a python program to split and join the string"
   ]
  },
  {
   "cell_type": "code",
   "execution_count": 13,
   "id": "8ee37b6c",
   "metadata": {},
   "outputs": [
    {
     "name": "stdout",
     "output_type": "stream",
     "text": [
      "hello my name is samiksha\n",
      "['hello', 'my', 'name', 'is', 'samiksha']\n",
      "hello my name is samiksha\n"
     ]
    }
   ],
   "source": [
    "message=\"hello my name is samiksha\"\n",
    "print(message)\n",
    "tokens=message.split()\n",
    "print(tokens)\n",
    "join_string=' '.join(tokens)\n",
    "print(join_string)"
   ]
  },
  {
   "cell_type": "code",
   "execution_count": 14,
   "id": "edb5c5c6",
   "metadata": {},
   "outputs": [],
   "source": [
    "#Write a python program to check if the given string is binary string or not?"
   ]
  },
  {
   "cell_type": "code",
   "execution_count": 18,
   "id": "aa2fd69c",
   "metadata": {},
   "outputs": [
    {
     "name": "stdout",
     "output_type": "stream",
     "text": [
      "Enter the string: 101011\n",
      "101011 is a binary string\n"
     ]
    }
   ],
   "source": [
    "str=input(\"Enter the string: \")\n",
    "flag=0\n",
    "for char in str:\n",
    "    if char!=\"0\" and char!=\"1\":\n",
    "        flag=1\n",
    "        break\n",
    "if flag==0:\n",
    "    print(str,\"is a binary string\")\n",
    "else:\n",
    "    print(str,\"is not a binary string\")"
   ]
  },
  {
   "cell_type": "code",
   "execution_count": 22,
   "id": "93971749",
   "metadata": {},
   "outputs": [
    {
     "name": "stdout",
     "output_type": "stream",
     "text": [
      "Enter first string: hello world\n",
      "Enter second string: hello samiksha\n",
      "{'world', 'samiksha'}\n"
     ]
    }
   ],
   "source": [
    "#Write a python program to find uncommon words from two string\n",
    "str1=input(\"Enter first string: \")\n",
    "str2=input(\"Enter second string: \")\n",
    "print(set(str1.split())^set(str2.split()))"
   ]
  },
  {
   "cell_type": "code",
   "execution_count": 23,
   "id": "e8734f32",
   "metadata": {},
   "outputs": [],
   "source": [
    "#Write a python program to find duplicate character in string"
   ]
  },
  {
   "cell_type": "code",
   "execution_count": 28,
   "id": "848b1443",
   "metadata": {},
   "outputs": [
    {
     "name": "stdout",
     "output_type": "stream",
     "text": [
      "['p', 'o', 'n', 'r', 'g', 'm']\n"
     ]
    }
   ],
   "source": [
    "String=\"python programming\"\n",
    "duplicate=[]\n",
    "for i in String:\n",
    "    if String.count(i)>1:\n",
    "        if i not in duplicate:\n",
    "            duplicate.append(i)\n",
    "print(duplicate)"
   ]
  },
  {
   "cell_type": "code",
   "execution_count": 30,
   "id": "508690d3",
   "metadata": {},
   "outputs": [],
   "source": [
    "#Write a python program to check a string contain any special character"
   ]
  },
  {
   "cell_type": "code",
   "execution_count": 31,
   "id": "ef8408b4",
   "metadata": {},
   "outputs": [],
   "source": [
    "import re"
   ]
  },
  {
   "cell_type": "code",
   "execution_count": 38,
   "id": "6a6b5e32",
   "metadata": {},
   "outputs": [
    {
     "name": "stdout",
     "output_type": "stream",
     "text": [
      "Enter any string: hey!! i @ am #samiksha\n",
      "The string contains special characters.\n"
     ]
    }
   ],
   "source": [
    "# Python program to check special character\n",
    "\n",
    "# import required package\n",
    "import re\n",
    "\n",
    "# take inputs\n",
    "string = input('Enter any string: ')\n",
    " \n",
    "# special characters\n",
    "special_char = re.compile('[@_!#$%^&*()<>?/\\|}{~:]')\n",
    "\n",
    "# check string contains special characters or not\n",
    "if(special_char.search(string) == None):\n",
    "    print('String does not contain any special characters.')\n",
    "else:\n",
    "    print('The string contains special characters.')"
   ]
  },
  {
   "cell_type": "code",
   "execution_count": null,
   "id": "8447c126",
   "metadata": {},
   "outputs": [],
   "source": []
  },
  {
   "cell_type": "code",
   "execution_count": null,
   "id": "b59a5edc",
   "metadata": {},
   "outputs": [],
   "source": []
  },
  {
   "cell_type": "code",
   "execution_count": null,
   "id": "807124a0",
   "metadata": {},
   "outputs": [],
   "source": []
  },
  {
   "cell_type": "code",
   "execution_count": null,
   "id": "32f1d6e7",
   "metadata": {},
   "outputs": [],
   "source": []
  },
  {
   "cell_type": "code",
   "execution_count": null,
   "id": "ed2377c1",
   "metadata": {},
   "outputs": [],
   "source": []
  },
  {
   "cell_type": "code",
   "execution_count": null,
   "id": "c0429b26",
   "metadata": {},
   "outputs": [],
   "source": []
  },
  {
   "cell_type": "raw",
   "id": "91756279",
   "metadata": {},
   "source": []
  }
 ],
 "metadata": {
  "kernelspec": {
   "display_name": "Python 3 (ipykernel)",
   "language": "python",
   "name": "python3"
  },
  "language_info": {
   "codemirror_mode": {
    "name": "ipython",
    "version": 3
   },
   "file_extension": ".py",
   "mimetype": "text/x-python",
   "name": "python",
   "nbconvert_exporter": "python",
   "pygments_lexer": "ipython3",
   "version": "3.9.13"
  }
 },
 "nbformat": 4,
 "nbformat_minor": 5
}
