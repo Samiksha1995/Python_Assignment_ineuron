{
 "cells": [
  {
   "cell_type": "markdown",
   "id": "2bd0e3c4",
   "metadata": {},
   "source": [
    "# Python Programming Assignment No -1"
   ]
  },
  {
   "cell_type": "code",
   "execution_count": 2,
   "id": "44ff65da",
   "metadata": {},
   "outputs": [],
   "source": [
    "# 1.Write a python program to print \"Hello World\""
   ]
  },
  {
   "cell_type": "code",
   "execution_count": 1,
   "id": "72e1e72f",
   "metadata": {},
   "outputs": [
    {
     "name": "stdout",
     "output_type": "stream",
     "text": [
      "Hello World\n"
     ]
    }
   ],
   "source": [
    "print(\"Hello World\")"
   ]
  },
  {
   "cell_type": "code",
   "execution_count": null,
   "id": "bf197f44",
   "metadata": {},
   "outputs": [],
   "source": [
    "#Write a Python Program to do arithmetical operations addition and divison"
   ]
  },
  {
   "cell_type": "code",
   "execution_count": 3,
   "id": "3326bad8",
   "metadata": {},
   "outputs": [
    {
     "name": "stdout",
     "output_type": "stream",
     "text": [
      " Enter first number: 1000\n",
      " Enter first number: 100\n",
      "addition of two no is 1100\n",
      "divison of two no is 10.0\n"
     ]
    }
   ],
   "source": [
    "a=int(input(\" Enter first number: \"))\n",
    "b=int(input(\" Enter first number: \"))\n",
    "c=a+b\n",
    "d=a/b\n",
    "print(\"addition of two no is {}\".format(c))\n",
    "print(\"divison of two no is {}\".format(d))\n",
    "\n"
   ]
  },
  {
   "cell_type": "code",
   "execution_count": 4,
   "id": "11caf8e1",
   "metadata": {},
   "outputs": [],
   "source": [
    "#Write a python program to find the area of a triangle?"
   ]
  },
  {
   "cell_type": "code",
   "execution_count": 5,
   "id": "c7d8c588",
   "metadata": {},
   "outputs": [
    {
     "name": "stdout",
     "output_type": "stream",
     "text": [
      "enter the base of triangle13\n",
      "enter the height of triangle45\n",
      "Area of triangle is 292.5\n"
     ]
    }
   ],
   "source": [
    "Base=int(input(\"enter the base of triangle \"))\n",
    "Height=int(input(\"enter the height of triangle \"))\n",
    "Area=0.5*Base*Height\n",
    "print(\"Area of triangle is {}\".format(Area))"
   ]
  },
  {
   "cell_type": "code",
   "execution_count": null,
   "id": "037eb892",
   "metadata": {},
   "outputs": [],
   "source": [
    "# Write a python program to swap two variables"
   ]
  },
  {
   "cell_type": "code",
   "execution_count": 6,
   "id": "c451bbcd",
   "metadata": {},
   "outputs": [
    {
     "name": "stdout",
     "output_type": "stream",
     "text": [
      " value of var1- 30 and value of var2- 10 \n"
     ]
    }
   ],
   "source": [
    "var1=10\n",
    "var2=30\n",
    "var3=var1\n",
    "var1=var2\n",
    "var2=var3\n",
    "print( \" value of var1- {} and value of var2- {} \".format(var1,var2))"
   ]
  },
  {
   "cell_type": "code",
   "execution_count": 7,
   "id": "e887e50a",
   "metadata": {},
   "outputs": [
    {
     "name": "stdout",
     "output_type": "stream",
     "text": [
      "enter the value: 10\n",
      "enter the value: 20\n",
      " value of x- 20 and value of y- 10 \n"
     ]
    }
   ],
   "source": [
    "# second method to solve same problem\n",
    "x=int(input(\"enter the value: \"))\n",
    "y=int(input(\"enter the value: \"))\n",
    "x,y=y,x\n",
    "print( \" value of x- {} and value of y- {} \".format(x,y))"
   ]
  },
  {
   "cell_type": "code",
   "execution_count": null,
   "id": "6d70dcca",
   "metadata": {},
   "outputs": [],
   "source": [
    "#Write a python program to generate random number"
   ]
  },
  {
   "cell_type": "code",
   "execution_count": 8,
   "id": "b740aa45",
   "metadata": {},
   "outputs": [],
   "source": [
    "import random"
   ]
  },
  {
   "cell_type": "code",
   "execution_count": 12,
   "id": "4d67fc40",
   "metadata": {},
   "outputs": [
    {
     "name": "stdout",
     "output_type": "stream",
     "text": [
      "8\n"
     ]
    }
   ],
   "source": [
    "# Give us random integer value in range\n",
    "number=random.randint(1,10)\n",
    "print(number)"
   ]
  },
  {
   "cell_type": "code",
   "execution_count": 14,
   "id": "5ca72407",
   "metadata": {},
   "outputs": [
    {
     "name": "stdout",
     "output_type": "stream",
     "text": [
      "0.000715650048552674\n"
     ]
    }
   ],
   "source": [
    "# Want to generate the value in between 0 to 1\n",
    "num=random.random()\n",
    "print(num)"
   ]
  },
  {
   "cell_type": "code",
   "execution_count": 17,
   "id": "da966d9c",
   "metadata": {},
   "outputs": [
    {
     "name": "stdout",
     "output_type": "stream",
     "text": [
      "60\n"
     ]
    }
   ],
   "source": [
    "n1=random.randrange(10,100,10)\n",
    "print(n1)"
   ]
  },
  {
   "cell_type": "code",
   "execution_count": 24,
   "id": "32a06436",
   "metadata": {},
   "outputs": [
    {
     "name": "stdout",
     "output_type": "stream",
     "text": [
      "52.08265218453411\n"
     ]
    }
   ],
   "source": [
    "#Generate float value in given range\n",
    "n2=random.uniform(50,70)\n",
    "print(n2)"
   ]
  },
  {
   "cell_type": "code",
   "execution_count": 27,
   "id": "932f4364",
   "metadata": {},
   "outputs": [
    {
     "name": "stdout",
     "output_type": "stream",
     "text": [
      "[293, 199, 380, 346, 152, 128, 124, 168, 225, 436, 387, 344, 187, 363, 413, 298, 356, 391, 333, 383]\n"
     ]
    }
   ],
   "source": [
    "# List Of Random value\n",
    "numlist=random.sample(range(120,450),20)\n",
    "print(numlist)"
   ]
  },
  {
   "cell_type": "code",
   "execution_count": 28,
   "id": "dbbbfd88",
   "metadata": {},
   "outputs": [
    {
     "name": "stdout",
     "output_type": "stream",
     "text": [
      "[4, 2, 5, 7, 3, 1, 6]\n"
     ]
    }
   ],
   "source": [
    "numberlist=[1,2,3,4,5,6,7]\n",
    "random.shuffle(numberlist)\n",
    "print(numberlist)"
   ]
  },
  {
   "cell_type": "code",
   "execution_count": null,
   "id": "fe3fa904",
   "metadata": {},
   "outputs": [],
   "source": []
  },
  {
   "cell_type": "code",
   "execution_count": null,
   "id": "d0706f3a",
   "metadata": {},
   "outputs": [],
   "source": []
  }
 ],
 "metadata": {
  "kernelspec": {
   "display_name": "Python 3 (ipykernel)",
   "language": "python",
   "name": "python3"
  },
  "language_info": {
   "codemirror_mode": {
    "name": "ipython",
    "version": 3
   },
   "file_extension": ".py",
   "mimetype": "text/x-python",
   "name": "python",
   "nbconvert_exporter": "python",
   "pygments_lexer": "ipython3",
   "version": "3.9.13"
  }
 },
 "nbformat": 4,
 "nbformat_minor": 5
}
