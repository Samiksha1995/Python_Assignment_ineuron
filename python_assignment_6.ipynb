{
 "cells": [
  {
   "cell_type": "code",
   "execution_count": null,
   "id": "42da9c80",
   "metadata": {},
   "outputs": [],
   "source": [
    "# Write a python program to diplay fibonacci sequence using recursion?"
   ]
  },
  {
   "cell_type": "code",
   "execution_count": 10,
   "id": "f7af84ed",
   "metadata": {},
   "outputs": [
    {
     "name": "stdout",
     "output_type": "stream",
     "text": [
      "enter the number of term: 10\n",
      "0\n",
      "1\n",
      "1\n",
      "2\n",
      "3\n",
      "5\n",
      "8\n",
      "13\n",
      "21\n",
      "34\n"
     ]
    }
   ],
   "source": [
    "def fibo(n):\n",
    "    if n==1:\n",
    "        return 0\n",
    "    if n==2:\n",
    "        return 1\n",
    "    else:\n",
    "        return fibo(n-1)+fibo(n-2)\n",
    "n=int(input(\"enter the number of term: \"))\n",
    "for i in range(1,n+1):\n",
    "    print(fibo(i))"
   ]
  },
  {
   "cell_type": "code",
   "execution_count": null,
   "id": "e2dc5a7f",
   "metadata": {},
   "outputs": [],
   "source": [
    "# Write a python program to find factorial using recursion?"
   ]
  },
  {
   "cell_type": "code",
   "execution_count": 16,
   "id": "b56aa46b",
   "metadata": {},
   "outputs": [
    {
     "name": "stdout",
     "output_type": "stream",
     "text": [
      "Enter the no to find factorial: 5\n"
     ]
    },
    {
     "data": {
      "text/plain": [
       "120"
      ]
     },
     "execution_count": 16,
     "metadata": {},
     "output_type": "execute_result"
    }
   ],
   "source": [
    "def fact(n):\n",
    "    if n==1:\n",
    "        return 1\n",
    "    else:\n",
    "        return (n*fact(n-1))\n",
    "    \n",
    "n=int(input(\"Enter the no to find factorial: \"))\n",
    "fact(n)"
   ]
  },
  {
   "cell_type": "code",
   "execution_count": 5,
   "id": "f082f4da",
   "metadata": {},
   "outputs": [
    {
     "name": "stdout",
     "output_type": "stream",
     "text": [
      "Enter you name35\n",
      "Enter your weight: 65\n",
      "Enter your height in meter: 1.3\n",
      "35 BMI is 25.0 you are overweight\n"
     ]
    }
   ],
   "source": [
    "# Write a program to calculate body mass index?\n",
    "name=input(\"Enter you name\")\n",
    "weight=float(input(\"Enter your weight: \"))\n",
    "height=float(input(\"Enter your height in meter: \"))\n",
    "BMI=weight/(height*2)\n",
    "if(BMI<=18.5):\n",
    "    print(name,\"BMI is\",BMI ,\"you are underweight\")\n",
    "elif(BMI<=24.9):\n",
    "    print(name,\"BMI is\",BMI ,\" Normal BMI\")\n",
    "else:\n",
    "     print(name,\"BMI is\",BMI, \"you are overweight\")\n",
    "    "
   ]
  },
  {
   "cell_type": "code",
   "execution_count": null,
   "id": "79fb1813",
   "metadata": {},
   "outputs": [],
   "source": [
    "Write a python program to calculate the natural logarithm of any number"
   ]
  },
  {
   "cell_type": "code",
   "execution_count": 11,
   "id": "f0c1249c",
   "metadata": {},
   "outputs": [
    {
     "name": "stdout",
     "output_type": "stream",
     "text": [
      "2.302585092994046 \n",
      " 1.0\n"
     ]
    }
   ],
   "source": [
    "import math\n",
    "a=math.log(10)      # base of log is e\n",
    "b=math.log10(10)      \n",
    "print(a,\"\\n\",b)"
   ]
  },
  {
   "cell_type": "code",
   "execution_count": 14,
   "id": "4314f8f6",
   "metadata": {},
   "outputs": [
    {
     "data": {
      "text/plain": [
       "2.0"
      ]
     },
     "execution_count": 14,
     "metadata": {},
     "output_type": "execute_result"
    }
   ],
   "source": [
    "math.log(100,10)    # we can mention the base like this as well"
   ]
  },
  {
   "cell_type": "code",
   "execution_count": null,
   "id": "857e8a98",
   "metadata": {},
   "outputs": [],
   "source": [
    "# Write a python program for cube sum of first n natutal number"
   ]
  },
  {
   "cell_type": "code",
   "execution_count": 2,
   "id": "20c9aa05",
   "metadata": {},
   "outputs": [
    {
     "name": "stdout",
     "output_type": "stream",
     "text": [
      "enter the value of n: 4\n",
      "sum of cube of first 4 natural number is 100\n"
     ]
    }
   ],
   "source": [
    "n=int(input(\"enter the value of n: \"))\n",
    "summ=0\n",
    "for i in range(1,n+1):\n",
    "    summ=summ+pow(i,3)\n",
    "    \n",
    "print(\"sum of cube of first\", n, \"natural number is\",summ)"
   ]
  },
  {
   "cell_type": "code",
   "execution_count": null,
   "id": "f857eddc",
   "metadata": {},
   "outputs": [],
   "source": []
  },
  {
   "cell_type": "code",
   "execution_count": null,
   "id": "1da6603b",
   "metadata": {},
   "outputs": [],
   "source": []
  },
  {
   "cell_type": "code",
   "execution_count": null,
   "id": "b5e89198",
   "metadata": {},
   "outputs": [],
   "source": []
  },
  {
   "cell_type": "code",
   "execution_count": null,
   "id": "3cffbed7",
   "metadata": {},
   "outputs": [],
   "source": []
  },
  {
   "cell_type": "code",
   "execution_count": null,
   "id": "48a59619",
   "metadata": {},
   "outputs": [],
   "source": []
  },
  {
   "cell_type": "code",
   "execution_count": null,
   "id": "cf62f347",
   "metadata": {},
   "outputs": [],
   "source": []
  }
 ],
 "metadata": {
  "kernelspec": {
   "display_name": "Python 3 (ipykernel)",
   "language": "python",
   "name": "python3"
  },
  "language_info": {
   "codemirror_mode": {
    "name": "ipython",
    "version": 3
   },
   "file_extension": ".py",
   "mimetype": "text/x-python",
   "name": "python",
   "nbconvert_exporter": "python",
   "pygments_lexer": "ipython3",
   "version": "3.9.13"
  }
 },
 "nbformat": 4,
 "nbformat_minor": 5
}
