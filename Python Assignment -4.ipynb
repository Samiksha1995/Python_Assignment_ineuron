{
 "cells": [
  {
   "cell_type": "markdown",
   "id": "e4a15ae6",
   "metadata": {},
   "source": [
    "# Python Assignment No:4"
   ]
  },
  {
   "cell_type": "code",
   "execution_count": null,
   "id": "7e8939b9",
   "metadata": {},
   "outputs": [],
   "source": [
    "#Write a program to find the Factorial of a Number"
   ]
  },
  {
   "cell_type": "code",
   "execution_count": 9,
   "id": "bea4cc33",
   "metadata": {},
   "outputs": [
    {
     "name": "stdout",
     "output_type": "stream",
     "text": [
      "Enter a number: 10\n",
      "The factorial of  10 is 3628800\n"
     ]
    }
   ],
   "source": [
    "#Usung While loop\n",
    "num=int(input(\"Enter a number: \"))\n",
    "fact=1\n",
    "a=1\n",
    "while a<=num:\n",
    "    fact=fact*a\n",
    "    a=a+1\n",
    "print(\"The factorial of \", num, \"is\", fact)"
   ]
  },
  {
   "cell_type": "code",
   "execution_count": 10,
   "id": "d1784499",
   "metadata": {},
   "outputs": [
    {
     "name": "stdout",
     "output_type": "stream",
     "text": [
      "Enter the number: 10\n",
      "The factorial of  10 is 3628800\n"
     ]
    }
   ],
   "source": [
    "# Using For loop\n",
    "num1=int(input(\"Enter the number: \"))\n",
    "fact=1\n",
    "for i in range(1,num+1):\n",
    "    fact=fact*i\n",
    "print(\"The factorial of \", num1, \"is\", fact)\n",
    "    "
   ]
  },
  {
   "cell_type": "code",
   "execution_count": 11,
   "id": "ee160f33",
   "metadata": {},
   "outputs": [],
   "source": [
    "#Write a program to display multiplaction table"
   ]
  },
  {
   "cell_type": "code",
   "execution_count": 29,
   "id": "593c9155",
   "metadata": {},
   "outputs": [
    {
     "name": "stdout",
     "output_type": "stream",
     "text": [
      "enter a number which table want to show10\n",
      "10\n",
      "20\n",
      "30\n",
      "40\n",
      "50\n",
      "60\n",
      "70\n",
      "80\n",
      "90\n",
      "100\n"
     ]
    }
   ],
   "source": [
    "table=int(input(\"enter a number which table want to show\"))\n",
    "num=10\n",
    "for i in range(1,num+1):\n",
    "    table1=table*i\n",
    "    print(table1)\n",
    "    "
   ]
  },
  {
   "cell_type": "code",
   "execution_count": null,
   "id": "7f6d4272",
   "metadata": {},
   "outputs": [],
   "source": [
    "#Write a program to print the Fibonacci sequence?"
   ]
  },
  {
   "cell_type": "code",
   "execution_count": 3,
   "id": "3eb191c5",
   "metadata": {},
   "outputs": [
    {
     "name": "stdout",
     "output_type": "stream",
     "text": [
      "Enter any number17\n",
      "0 1 1 2 3 5 8 13 21 34 55 89 144 233 377 610 987 "
     ]
    }
   ],
   "source": [
    "num=int(input(\"Enter any number\"))\n",
    "n1,n2=0,1\n",
    "sum=0\n",
    "if num<=0:\n",
    "    print(\"number is less than or eqaul to zero.Enter the number greater than zero\")\n",
    "else:\n",
    "    for i in range(0,num):\n",
    "        print(sum,end=\" \")\n",
    "        n1=n2\n",
    "        n2=sum\n",
    "        sum=n1+n2\n",
    "    "
   ]
  },
  {
   "cell_type": "code",
   "execution_count": null,
   "id": "780778c8",
   "metadata": {},
   "outputs": [],
   "source": [
    "#Write a python program to find Armstrong Number?"
   ]
  },
  {
   "cell_type": "code",
   "execution_count": 6,
   "id": "5002ff67",
   "metadata": {},
   "outputs": [
    {
     "name": "stdout",
     "output_type": "stream",
     "text": [
      "enter a number to check number for armstrong371\n",
      "given number is armstrong number\n"
     ]
    }
   ],
   "source": [
    "i=int(input(\"enter a number to check number for armstrong\"))\n",
    "org=i\n",
    "sum=0\n",
    "while (i>0):\n",
    "    sum=sum+(i%10)*(i%10)*(i%10)\n",
    "    i=i//10\n",
    "if sum== org:\n",
    "    print(\"given number is armstrong number\")\n",
    "else:\n",
    "    print(\"given number is not armstrong number\")\n",
    "\n"
   ]
  },
  {
   "cell_type": "code",
   "execution_count": null,
   "id": "74d46101",
   "metadata": {},
   "outputs": [],
   "source": [
    "#Write a prgram to find sum of natural number"
   ]
  },
  {
   "cell_type": "code",
   "execution_count": 16,
   "id": "2ff0f006",
   "metadata": {},
   "outputs": [
    {
     "name": "stdout",
     "output_type": "stream",
     "text": [
      "enter how many number you want to add : 100\n",
      "5050\n"
     ]
    }
   ],
   "source": [
    "number=int(input(\"enter how many number you want to add : \"))\n",
    "sum=0\n",
    "if number<=0:\n",
    "    print(\"please enter the positive number\")\n",
    "else:\n",
    "    for i in range(0,number+1):\n",
    "        sum=sum+i\n",
    "print(sum)"
   ]
  }
 ],
 "metadata": {
  "kernelspec": {
   "display_name": "Python 3 (ipykernel)",
   "language": "python",
   "name": "python3"
  },
  "language_info": {
   "codemirror_mode": {
    "name": "ipython",
    "version": 3
   },
   "file_extension": ".py",
   "mimetype": "text/x-python",
   "name": "python",
   "nbconvert_exporter": "python",
   "pygments_lexer": "ipython3",
   "version": "3.9.13"
  }
 },
 "nbformat": 4,
 "nbformat_minor": 5
}
