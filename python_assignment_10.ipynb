{
 "cells": [
  {
   "cell_type": "markdown",
   "id": "9ea62eaf",
   "metadata": {},
   "source": [
    "# Python Assignment No:10"
   ]
  },
  {
   "cell_type": "code",
   "execution_count": 1,
   "id": "f6687f0c",
   "metadata": {},
   "outputs": [],
   "source": [
    "#Write the python program to find sum of elements in list"
   ]
  },
  {
   "cell_type": "code",
   "execution_count": 2,
   "id": "15fc1ca7",
   "metadata": {},
   "outputs": [
    {
     "name": "stdout",
     "output_type": "stream",
     "text": [
      "HOW MANY ELEMENT YOU WANT TO BE IN LIST: 4\n",
      "45\n",
      "46\n",
      "12\n",
      "35\n",
      "sum of all element in list : 138\n"
     ]
    }
   ],
   "source": [
    "lst=[]\n",
    "n=int(input(\"HOW MANY ELEMENT YOU WANT TO BE IN LIST: \"))\n",
    "for i in range(0,n):\n",
    "    ele=int(input(\"\"))\n",
    "    lst.append(ele)\n",
    "sm=sum(lst)\n",
    "print(\"sum of all element in list :\",sm)\n"
   ]
  },
  {
   "cell_type": "code",
   "execution_count": 3,
   "id": "04d12ca1",
   "metadata": {},
   "outputs": [
    {
     "name": "stdout",
     "output_type": "stream",
     "text": [
      "sum of all element in list:  158\n"
     ]
    }
   ],
   "source": [
    "lst=[12,34,45,67]\n",
    "sum=0\n",
    "for i in range(0,len(lst)):\n",
    "    sum=sum+lst[i]\n",
    "print(\"sum of all element in list: \", sum)"
   ]
  },
  {
   "cell_type": "code",
   "execution_count": 4,
   "id": "654e0ae8",
   "metadata": {},
   "outputs": [],
   "source": [
    "# 2.Write a python program to  multiply all the element in list"
   ]
  },
  {
   "cell_type": "code",
   "execution_count": 5,
   "id": "2a1992a5",
   "metadata": {},
   "outputs": [
    {
     "name": "stdout",
     "output_type": "stream",
     "text": [
      "enter the number of element: 4\n",
      "1\n",
      "2\n",
      "3\n",
      "4\n",
      "[1, 2, 3, 4]\n",
      "multiplication of all element in list is: 24\n"
     ]
    }
   ],
   "source": [
    "arr=[]\n",
    "n=int(input(\"enter the number of element: \"))\n",
    "for i in range(0,n):\n",
    "    ele=int(input(\"\"))\n",
    "    arr.append(ele)\n",
    "print(arr)\n",
    "product=1\n",
    "for j in arr:\n",
    "    product=product*j\n",
    "print(\"multiplication of all element in list is:\",product)\n",
    "    \n",
    "\n",
    "    "
   ]
  },
  {
   "cell_type": "code",
   "execution_count": 6,
   "id": "14197926",
   "metadata": {},
   "outputs": [],
   "source": [
    "import math"
   ]
  },
  {
   "cell_type": "code",
   "execution_count": 7,
   "id": "67ecd909",
   "metadata": {},
   "outputs": [
    {
     "name": "stdout",
     "output_type": "stream",
     "text": [
      "9792\n"
     ]
    }
   ],
   "source": [
    "arr=[12,34,2,3,4]\n",
    "res= math.prod(arr)\n",
    "print(res)"
   ]
  },
  {
   "cell_type": "code",
   "execution_count": 8,
   "id": "e887522a",
   "metadata": {},
   "outputs": [],
   "source": [
    "#Write a python program to find smallest element in list"
   ]
  },
  {
   "cell_type": "code",
   "execution_count": 9,
   "id": "4604f2b2",
   "metadata": {},
   "outputs": [
    {
     "name": "stdout",
     "output_type": "stream",
     "text": [
      "-1\n"
     ]
    }
   ],
   "source": [
    "list1=[1,23,45,34,55,0,-1]\n",
    "minimum=min(list1)\n",
    "print(minimum)"
   ]
  },
  {
   "cell_type": "code",
   "execution_count": 10,
   "id": "2a1a4a38",
   "metadata": {},
   "outputs": [
    {
     "name": "stdout",
     "output_type": "stream",
     "text": [
      "[-5, 1, 2, 4, 5, 7]\n",
      "smallest element in list  -5\n"
     ]
    }
   ],
   "source": [
    "lst1=[1,2,4,5,7,-5]\n",
    "lst1.sort()\n",
    "print(lst1)\n",
    "print(\"smallest element in list \",lst1[0])"
   ]
  },
  {
   "cell_type": "code",
   "execution_count": 11,
   "id": "3801e55e",
   "metadata": {},
   "outputs": [],
   "source": [
    "#Write a python program to find largest number in list"
   ]
  },
  {
   "cell_type": "code",
   "execution_count": 12,
   "id": "42023f96",
   "metadata": {},
   "outputs": [
    {
     "name": "stdout",
     "output_type": "stream",
     "text": [
      "[12, 23, 45, 56, 234, 789]\n",
      "Largest element in the array is: 789\n"
     ]
    }
   ],
   "source": [
    "gre_arr=[12,23,45,234,56,789]\n",
    "gre_arr.sort()\n",
    "print(gre_arr)\n",
    "print(\"Largest element in the array is:\",gre_arr[-1])"
   ]
  },
  {
   "cell_type": "code",
   "execution_count": 13,
   "id": "e024b6c9",
   "metadata": {},
   "outputs": [
    {
     "name": "stdout",
     "output_type": "stream",
     "text": [
      "largest element in array:  900\n"
     ]
    }
   ],
   "source": [
    "max_arr=[12,34,56,45,678,900]\n",
    "maxi=max(max_arr)\n",
    "print(\"largest element in array: \",maxi)"
   ]
  },
  {
   "cell_type": "code",
   "execution_count": null,
   "id": "c30e131b",
   "metadata": {},
   "outputs": [],
   "source": [
    "#Write a python program to find second largest element in list"
   ]
  },
  {
   "cell_type": "code",
   "execution_count": 14,
   "id": "6dfff577",
   "metadata": {},
   "outputs": [
    {
     "name": "stdout",
     "output_type": "stream",
     "text": [
      "[12, 23, 45, 56, 234, 789]\n",
      "Largest element in the array is: 234\n"
     ]
    }
   ],
   "source": [
    "sec_gre_arr=[12,23,45,234,56,789]\n",
    "sec_gre_arr.sort()\n",
    "print(sec_gre_arr)\n",
    "print(\"Largest element in the array is:\",sec_gre_arr[-2])"
   ]
  },
  {
   "cell_type": "code",
   "execution_count": 31,
   "id": "0ac44683",
   "metadata": {},
   "outputs": [
    {
     "name": "stdout",
     "output_type": "stream",
     "text": [
      "second largest element in list : 67\n"
     ]
    }
   ],
   "source": [
    "data=[12,23,45,67,89,43]\n",
    "def sec_max_ele(list1):\n",
    "    first_max=max(lst1[0],lst1[1])\n",
    "    second_max=min(lst1[0],lst1[1])\n",
    "    for i in range(2,len(list1)):\n",
    "        if first_max < list1[i]:\n",
    "            second_max=first_max\n",
    "            first_max=list1[i]\n",
    "        elif list1[i] > second_max and first_max!= list[i]:\n",
    "            second_max=list1[i]\n",
    "    return(second_max)\n",
    "print(\"second largest element in list :\",sec_max_ele(data))\n",
    "            \n",
    "            \n",
    "    "
   ]
  },
  {
   "cell_type": "code",
   "execution_count": null,
   "id": "c377ef64",
   "metadata": {},
   "outputs": [],
   "source": [
    "#write a python program to find nth largest element in list"
   ]
  },
  {
   "cell_type": "code",
   "execution_count": 5,
   "id": "8a00731d",
   "metadata": {},
   "outputs": [
    {
     "name": "stdout",
     "output_type": "stream",
     "text": [
      "sorted list [12, 32, 34, 45, 56, 67, 456]\n",
      "enter nth position of number:3\n",
      "56\n"
     ]
    }
   ],
   "source": [
    "l=[12,34,45,67,456,56,32]\n",
    "l.sort()\n",
    "print(\"sorted list\",l)\n",
    "n=int(input(\"enter nth position of number:\"))\n",
    "print(l[-n])"
   ]
  },
  {
   "cell_type": "code",
   "execution_count": null,
   "id": "ee7de1ea",
   "metadata": {},
   "outputs": [],
   "source": [
    "#Write a python program to find even number in list"
   ]
  },
  {
   "cell_type": "code",
   "execution_count": 7,
   "id": "c501197f",
   "metadata": {},
   "outputs": [
    {
     "name": "stdout",
     "output_type": "stream",
     "text": [
      "list of even number  [34, 56, 4, 58, 90, 24]\n"
     ]
    }
   ],
   "source": [
    "lst=[1,23,34,56,4,58,90,3,5,24]\n",
    "even_list=[]\n",
    "for i in lst:\n",
    "    if i %2 ==0:\n",
    "        even_list.append(i)\n",
    "print(\"list of even number \", even_list)"
   ]
  },
  {
   "cell_type": "code",
   "execution_count": 8,
   "id": "0b4cb678",
   "metadata": {},
   "outputs": [],
   "source": [
    "#Write a python program to find odd number in list"
   ]
  },
  {
   "cell_type": "code",
   "execution_count": 9,
   "id": "7c32ad7e",
   "metadata": {},
   "outputs": [
    {
     "name": "stdout",
     "output_type": "stream",
     "text": [
      "list of even number  [1, 23, 3, 5]\n"
     ]
    }
   ],
   "source": [
    "lst=[1,23,34,56,4,58,90,3,5,24]\n",
    "odd_list=[]\n",
    "for i in lst:\n",
    "    if i %2 !=0:\n",
    "        odd_list.append(i)\n",
    "print(\"list of even number \", odd_list)"
   ]
  },
  {
   "cell_type": "code",
   "execution_count": 10,
   "id": "762a977a",
   "metadata": {},
   "outputs": [],
   "source": [
    "#Write a python program to remove empty list from a list  (using filter function)"
   ]
  },
  {
   "cell_type": "code",
   "execution_count": 17,
   "id": "7db91c9b",
   "metadata": {},
   "outputs": [
    {
     "name": "stdout",
     "output_type": "stream",
     "text": [
      "original list: [1, 2, 3, [], 5, 6, [], [], 8, 9, '']\n",
      "list after romove empty list:  [1, 2, 3, 5, 6, 8, 9]\n"
     ]
    }
   ],
   "source": [
    "new_list=[1,2,3,[],5,6,[],[],8,9,\"\"]\n",
    "print(\"original list:\",new_list)\n",
    "b=list(filter(None,new_list))\n",
    "print(\"list after romove empty list: \",b)"
   ]
  },
  {
   "cell_type": "code",
   "execution_count": 18,
   "id": "42889f66",
   "metadata": {},
   "outputs": [],
   "source": [
    "#Write a python program to cloning or copying the list"
   ]
  },
  {
   "cell_type": "code",
   "execution_count": 20,
   "id": "3deaf4e9",
   "metadata": {},
   "outputs": [
    {
     "name": "stdout",
     "output_type": "stream",
     "text": [
      "original list [1, 2, 3, 4, 5, 5, 6]\n",
      "copy of list [1, 2, 3, 4, 5, 5, 6]\n"
     ]
    }
   ],
   "source": [
    "#method1\n",
    "org_list=[1,2,3,4,5,5,6]\n",
    "print(\"original list\",org_list)\n",
    "new_list=list(org_list)\n",
    "print(\"copy of list\",new_list)"
   ]
  },
  {
   "cell_type": "code",
   "execution_count": 21,
   "id": "842973ea",
   "metadata": {},
   "outputs": [
    {
     "name": "stdout",
     "output_type": "stream",
     "text": [
      "original list [1, 2, 3, 45, 6]\n",
      "cloning list [1, 2, 3, 45, 6]\n"
     ]
    }
   ],
   "source": [
    "#mthod2\n",
    "original_lst=[1,2,3,45,6]\n",
    "print(\"original list\",original_lst)\n",
    "copy=original_lst.copy()\n",
    "print(\"cloning list\",copy)"
   ]
  },
  {
   "cell_type": "code",
   "execution_count": null,
   "id": "07219423",
   "metadata": {},
   "outputs": [],
   "source": [
    "#write a python program to count occurance of an element in a list"
   ]
  },
  {
   "cell_type": "code",
   "execution_count": 26,
   "id": "78532a54",
   "metadata": {},
   "outputs": [
    {
     "name": "stdout",
     "output_type": "stream",
     "text": [
      "no. of occurance of 10 in list is 3\n"
     ]
    }
   ],
   "source": [
    "#method1:loop statement\n",
    "my_list=[15,6,23,45,10,34,56,10,3,6,10]\n",
    "x=10\n",
    "count=0\n",
    "for i in my_list:\n",
    "    if i==x:\n",
    "        count=count+1\n",
    "print(\"no. of occurance of\",x ,\"in list is\",count)\n"
   ]
  },
  {
   "cell_type": "code",
   "execution_count": 28,
   "id": "ecc194b1",
   "metadata": {},
   "outputs": [
    {
     "name": "stdout",
     "output_type": "stream",
     "text": [
      "10 has occured 4 times\n"
     ]
    }
   ],
   "source": [
    "#method2\n",
    "my_list=[15,6,10,23,45,10,34,56,10,3,6,10]\n",
    "x=10\n",
    "print(\"{} has occured {} times\".format(x,my_list.count(x)))\n"
   ]
  }
 ],
 "metadata": {
  "kernelspec": {
   "display_name": "Python 3 (ipykernel)",
   "language": "python",
   "name": "python3"
  },
  "language_info": {
   "codemirror_mode": {
    "name": "ipython",
    "version": 3
   },
   "file_extension": ".py",
   "mimetype": "text/x-python",
   "name": "python",
   "nbconvert_exporter": "python",
   "pygments_lexer": "ipython3",
   "version": "3.9.13"
  }
 },
 "nbformat": 4,
 "nbformat_minor": 5
}
