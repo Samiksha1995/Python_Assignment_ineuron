{
 "cells": [
  {
   "cell_type": "markdown",
   "id": "dc914c72",
   "metadata": {},
   "source": [
    "# Assignment Number :9"
   ]
  },
  {
   "cell_type": "code",
   "execution_count": null,
   "id": "0057d493",
   "metadata": {},
   "outputs": [],
   "source": [
    "#Write a python program to check if the given number is a Disarium Number?"
   ]
  },
  {
   "cell_type": "code",
   "execution_count": 4,
   "id": "1e8b6cc1",
   "metadata": {},
   "outputs": [
    {
     "name": "stdout",
     "output_type": "stream",
     "text": [
      "enter the number: 65\n",
      "65 is disarium not number\n"
     ]
    }
   ],
   "source": [
    "value=int(input(\"enter the number: \"))\n",
    "disarium=0\n",
    "temp=value\n",
    "def find_position(data):\n",
    "    str_data=str(data)\n",
    "    return len(str_data)\n",
    "while temp!=0:\n",
    "    disarium += (temp%10) ** find_position(temp)\n",
    "    temp= temp//10\n",
    "    \n",
    "if disarium== value:\n",
    "    print(value, \"is disarium number\")\n",
    "else:\n",
    "     print(value, \"is disarium not number\")\n"
   ]
  },
  {
   "cell_type": "code",
   "execution_count": null,
   "id": "225575ee",
   "metadata": {},
   "outputs": [],
   "source": [
    "#Write a python program to print all the disarium numbers between 1 to 100\n"
   ]
  },
  {
   "cell_type": "code",
   "execution_count": 20,
   "id": "f45606ae",
   "metadata": {},
   "outputs": [
    {
     "name": "stdout",
     "output_type": "stream",
     "text": [
      "The disarium numbers between 1 and 100 are : \n",
      "1\n",
      "2\n",
      "3\n",
      "4\n",
      "5\n",
      "6\n",
      "7\n",
      "8\n",
      "9\n",
      "89\n"
     ]
    }
   ],
   "source": [
    "def length_calculation(my_val):   \n",
    "   len_val = 0   \n",
    "   while(my_val != 0):   \n",
    "      len_val = len_val + 1   \n",
    "      my_val = my_val//10   \n",
    "   return len_val   \n",
    "\n",
    "def digit_sum(my_num):   \n",
    "   remaining = sum_val = 0  \n",
    "   len_fun = length_calculation(my_num)   \n",
    "      \n",
    "   while(my_num > 0):   \n",
    "      remaining = my_num%10   \n",
    "      sum_val = sum_val + (remaining**len_fun)   \n",
    "      my_num = my_num//10  \n",
    "      len_fun = len_fun - 1   \n",
    "   return sum_val   \n",
    "     \n",
    "ini_result = 0  \n",
    "    \n",
    "print(\"The disarium numbers between 1 and 100 are : \") \n",
    "for i in range(1, 101):   \n",
    "   ini_result = digit_sum(i)   \n",
    "      \n",
    "   if(ini_result == i):   \n",
    "      print(i)"
   ]
  },
  {
   "cell_type": "code",
   "execution_count": null,
   "id": "ea5c53dd",
   "metadata": {},
   "outputs": [],
   "source": [
    "#Write a python program to check if the given number is happy number?"
   ]
  },
  {
   "cell_type": "code",
   "execution_count": 28,
   "id": "0063b5f8",
   "metadata": {},
   "outputs": [
    {
     "name": "stdout",
     "output_type": "stream",
     "text": [
      "enter the number : 102\n",
      "sum 4\n",
      "sum 4\n",
      "sum 5\n",
      "102 is not a happy number\n"
     ]
    }
   ],
   "source": [
    "n=int(input(\"enter the number : \"))\n",
    "x=n\n",
    "while x >=10:\n",
    "    sum=0\n",
    "    while x > 0:\n",
    "        r= x % 10\n",
    "        sum=sum+ (r**2)\n",
    "        x=x//10\n",
    "        print(\"sum\",sum)\n",
    "    x=sum\n",
    "if (x==1):\n",
    "    print(n ,\"is a happy number\")\n",
    "else:\n",
    "     print(n ,\"is not a happy number\")"
   ]
  },
  {
   "cell_type": "code",
   "execution_count": null,
   "id": "7c3acdfc",
   "metadata": {},
   "outputs": [],
   "source": [
    "# Write the python program to print all the happy number in between 1 to 100"
   ]
  },
  {
   "cell_type": "code",
   "execution_count": 29,
   "id": "654e5627",
   "metadata": {},
   "outputs": [
    {
     "name": "stdout",
     "output_type": "stream",
     "text": [
      "The list of happy numbers between 1 and 100 are : \n",
      "1\n",
      "7\n",
      "10\n",
      "13\n",
      "19\n",
      "23\n",
      "28\n",
      "31\n",
      "32\n",
      "44\n",
      "49\n",
      "68\n",
      "70\n",
      "79\n",
      "82\n",
      "86\n",
      "91\n",
      "94\n",
      "97\n",
      "100\n"
     ]
    }
   ],
   "source": [
    "def check_happy_num(my_num):\n",
    "   remaining = sum_val = 0\n",
    "   while(my_num > 0):\n",
    "      remaining = my_num%10\n",
    "      sum_val = sum_val + (remaining*remaining)\n",
    "      my_num = my_num//10\n",
    "   return sum_val\n",
    "print(\"The list of happy numbers between 1 and 100 are : \")\n",
    "for i in range(1, 101):\n",
    "   my_result = i\n",
    "   while(my_result != 1 and my_result != 4):\n",
    "      my_result = check_happy_num(my_result)\n",
    "   if(my_result == 1):\n",
    "      print(i)"
   ]
  },
  {
   "cell_type": "code",
   "execution_count": null,
   "id": "bc6f79ae",
   "metadata": {},
   "outputs": [],
   "source": [
    "#Write a python program to check whether the number is a harshad number?"
   ]
  },
  {
   "cell_type": "code",
   "execution_count": 35,
   "id": "94cd28d7",
   "metadata": {},
   "outputs": [
    {
     "name": "stdout",
     "output_type": "stream",
     "text": [
      "enter the number: 24\n",
      "24 is harshad number\n"
     ]
    }
   ],
   "source": [
    "num=int(input(\"enter the number: \"))\n",
    "x=num\n",
    "sum=0\n",
    "while x>0:\n",
    "    rem=x%10\n",
    "    sum=sum+rem\n",
    "    x=x//10\n",
    "if(num%sum==0):\n",
    "    print(num, \"is harshad number\")\n",
    "else:\n",
    "    print(num, \"is not harshad number\")"
   ]
  },
  {
   "cell_type": "code",
   "execution_count": null,
   "id": "e94f80d0",
   "metadata": {},
   "outputs": [],
   "source": [
    "#Write a python program tp print all pronic number between 1 to 100?"
   ]
  },
  {
   "cell_type": "code",
   "execution_count": 38,
   "id": "c3d1fee2",
   "metadata": {},
   "outputs": [
    {
     "name": "stdout",
     "output_type": "stream",
     "text": [
      "Pronic numbers between 1 and 100: \n",
      "2\n",
      " \n",
      "6\n",
      " \n",
      "12\n",
      " \n",
      "20\n",
      " \n",
      "30\n",
      " \n",
      "42\n",
      " \n",
      "56\n",
      " \n",
      "72\n",
      " \n",
      "90\n",
      " \n"
     ]
    }
   ],
   "source": [
    "def isPronicNumber(num):    \n",
    "    flag = False;    \n",
    "        \n",
    "    for j in range(1, num+1):    \n",
    "        #Checks for pronic number by multiplying consecutive numbers    \n",
    "        if((j*(j+1)) == num):    \n",
    "            flag = True;    \n",
    "            break;    \n",
    "    return flag;    \n",
    "     \n",
    "#Displays pronic numbers between 1 and 100    \n",
    "print(\"Pronic numbers between 1 and 100: \");    \n",
    "for i in range(1, 101):    \n",
    "    if(isPronicNumber(i)):    \n",
    "        print(i),    \n",
    "        print(\" \"),    "
   ]
  },
  {
   "cell_type": "code",
   "execution_count": null,
   "id": "286a1057",
   "metadata": {},
   "outputs": [],
   "source": []
  }
 ],
 "metadata": {
  "kernelspec": {
   "display_name": "Python 3 (ipykernel)",
   "language": "python",
   "name": "python3"
  },
  "language_info": {
   "codemirror_mode": {
    "name": "ipython",
    "version": 3
   },
   "file_extension": ".py",
   "mimetype": "text/x-python",
   "name": "python",
   "nbconvert_exporter": "python",
   "pygments_lexer": "ipython3",
   "version": "3.9.13"
  }
 },
 "nbformat": 4,
 "nbformat_minor": 5
}
