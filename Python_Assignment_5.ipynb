{
 "cells": [
  {
   "cell_type": "markdown",
   "id": "9b198ff9",
   "metadata": {},
   "source": [
    "# Python Assignment No: 5"
   ]
  },
  {
   "cell_type": "code",
   "execution_count": 4,
   "id": "b7edcc7a",
   "metadata": {},
   "outputs": [],
   "source": [
    "# Write a Python Program to Find LCM. "
   ]
  },
  {
   "cell_type": "code",
   "execution_count": 8,
   "id": "2808707a",
   "metadata": {},
   "outputs": [
    {
     "name": "stdout",
     "output_type": "stream",
     "text": [
      "enter first number:45\n",
      "enter second number:60\n",
      "Lcm of 45 and 60 is 180\n"
     ]
    }
   ],
   "source": [
    "a=int(input(\"enter first number:\"))\n",
    "b=int(input(\"enter second number:\"))\n",
    "maxnum=max(a,b)\n",
    "while(True):\n",
    "    if(maxnum%a==0 and maxnum%b==0 ):\n",
    "        break\n",
    "    maxnum=maxnum+1\n",
    "print(\"Lcm of\", a, \"and\", b, \"is\", maxnum)\n",
    "    "
   ]
  },
  {
   "cell_type": "code",
   "execution_count": 10,
   "id": "7bc664c4",
   "metadata": {},
   "outputs": [
    {
     "name": "stdout",
     "output_type": "stream",
     "text": [
      "enter first number45\n",
      "enter second number60\n",
      "lcm is 180\n"
     ]
    }
   ],
   "source": [
    "x=int(input(\"enter first number\"))\n",
    "y=int(input(\"enter second number\"))\n",
    "if x>y:\n",
    "    higher=x\n",
    "else:\n",
    "    higher=y\n",
    "while (True):\n",
    "    if (higher% x==0 and higher% y== 0):\n",
    "        break\n",
    "    higher=higher+1\n",
    "print(\"lcm is\",higher)\n",
    "\n",
    "    "
   ]
  },
  {
   "cell_type": "code",
   "execution_count": 11,
   "id": "69b17955",
   "metadata": {},
   "outputs": [],
   "source": [
    "import math"
   ]
  },
  {
   "cell_type": "code",
   "execution_count": 12,
   "id": "cc47ca12",
   "metadata": {},
   "outputs": [
    {
     "name": "stdout",
     "output_type": "stream",
     "text": [
      "enter first number45\n",
      "enter second number60\n",
      "180\n"
     ]
    }
   ],
   "source": [
    "x1=int(input(\"enter first number\"))\n",
    "x2=int(input(\"enter second number\"))\n",
    "lcm=math.lcm(x1,x2)\n",
    "print(lcm )"
   ]
  },
  {
   "cell_type": "code",
   "execution_count": null,
   "id": "9539a6a7",
   "metadata": {},
   "outputs": [],
   "source": [
    "# write a program to find HCF"
   ]
  },
  {
   "cell_type": "code",
   "execution_count": 17,
   "id": "cce84050",
   "metadata": {},
   "outputs": [
    {
     "name": "stdout",
     "output_type": "stream",
     "text": [
      "enter first number10\n",
      "enter second number15\n",
      "5\n"
     ]
    }
   ],
   "source": [
    "# (greatest common divisor (GCD) and Highest Common factor(HCF) is same)\n",
    "num1=int(input(\"enter first number\"))\n",
    "num2=int(input(\"enter second number\"))\n",
    "gcd=math.gcd(num1,num2)\n",
    "print(gcd)"
   ]
  },
  {
   "cell_type": "code",
   "execution_count": 5,
   "id": "b3cf99b8",
   "metadata": {},
   "outputs": [
    {
     "name": "stdout",
     "output_type": "stream",
     "text": [
      "enter first number: 15\n",
      "enter second number: 30\n",
      "hcf of 15 and 30 is 15\n"
     ]
    }
   ],
   "source": [
    "a=int(input(\"enter first number: \"))\n",
    "b=int(input(\"enter second number: \"))\n",
    "if a>b:\n",
    "    min=b\n",
    "else:\n",
    "    min=a\n",
    "for i in range(1,min+1):\n",
    "    if(a%i==0 and b%i==0):\n",
    "        hcf=i\n",
    "print(\"hcf of\",a ,\"and\", b, \"is\",i)"
   ]
  },
  {
   "cell_type": "code",
   "execution_count": null,
   "id": "d4587632",
   "metadata": {},
   "outputs": [],
   "source": [
    "#Write a program to convert decimal to binary, octal,hexadecimal"
   ]
  },
  {
   "cell_type": "code",
   "execution_count": 9,
   "id": "3fd96e67",
   "metadata": {},
   "outputs": [
    {
     "name": "stdout",
     "output_type": "stream",
     "text": [
      "Enter a decimal number: 4\n",
      "The conversion of Decimal Number 4 is:\n",
      "0b100 In binary\n",
      "0o4 In oct\n",
      "0x4 In hexadecimal\n"
     ]
    }
   ],
   "source": [
    "dec=int(input(\"Enter a decimal number: \"))\n",
    "print(\"The conversion of Decimal Number\", dec ,\"is:\")\n",
    "print(bin(dec),\"In binary\")\n",
    "print(oct(dec),\"In oct\")\n",
    "print(hex(dec),\"In hexadecimal\")"
   ]
  },
  {
   "cell_type": "code",
   "execution_count": null,
   "id": "e19388f5",
   "metadata": {},
   "outputs": [],
   "source": [
    "#Write a python program to find ASCII Value of character"
   ]
  },
  {
   "cell_type": "code",
   "execution_count": 11,
   "id": "8b786516",
   "metadata": {},
   "outputs": [
    {
     "name": "stdout",
     "output_type": "stream",
     "text": [
      "The ASCII value of A is 65\n"
     ]
    }
   ],
   "source": [
    "char=\"A\"\n",
    "print(\"The ASCII value of\",char, \"is\",ord(char))"
   ]
  },
  {
   "cell_type": "code",
   "execution_count": 13,
   "id": "12af711a",
   "metadata": {},
   "outputs": [
    {
     "name": "stdout",
     "output_type": "stream",
     "text": [
      "Enter number:15\n",
      "Enter number:10\n",
      "sum of two number is 25\n",
      "difference of two number is 5\n",
      "multiplication of two number is 150\n",
      "divide of two number is 1.5\n",
      "modulo of two number is 5\n"
     ]
    }
   ],
   "source": [
    "#Write a python program to make simple calculator with 4 basic mathematical operator\n",
    "m=int(input(\"Enter number:\" ))\n",
    "n=int(input(\"Enter number:\"  ))\n",
    "sum1=m+n\n",
    "difference=m-n\n",
    "multiplication=m*n\n",
    "divide=m/n\n",
    "modulo=m%n\n",
    "print(\"sum of two number is\",sum1)\n",
    "print(\"difference of two number is\",difference)\n",
    "print(\"multiplication of two number is\",multiplication)\n",
    "print(\"divide of two number is\",divide)\n",
    "print(\"modulo of two number is\",modulo)"
   ]
  },
  {
   "cell_type": "code",
   "execution_count": null,
   "id": "6b509967",
   "metadata": {},
   "outputs": [],
   "source": []
  },
  {
   "cell_type": "code",
   "execution_count": null,
   "id": "afccb586",
   "metadata": {},
   "outputs": [],
   "source": []
  },
  {
   "cell_type": "code",
   "execution_count": null,
   "id": "d809dc7e",
   "metadata": {},
   "outputs": [],
   "source": []
  },
  {
   "cell_type": "code",
   "execution_count": null,
   "id": "0f9a7036",
   "metadata": {},
   "outputs": [],
   "source": []
  },
  {
   "cell_type": "code",
   "execution_count": null,
   "id": "12925b65",
   "metadata": {},
   "outputs": [],
   "source": []
  },
  {
   "cell_type": "code",
   "execution_count": null,
   "id": "22e9f9c5",
   "metadata": {},
   "outputs": [],
   "source": []
  },
  {
   "cell_type": "code",
   "execution_count": null,
   "id": "4a6dc48a",
   "metadata": {},
   "outputs": [],
   "source": []
  },
  {
   "cell_type": "code",
   "execution_count": null,
   "id": "76747810",
   "metadata": {},
   "outputs": [],
   "source": []
  },
  {
   "cell_type": "code",
   "execution_count": null,
   "id": "b556f7ed",
   "metadata": {},
   "outputs": [],
   "source": []
  },
  {
   "cell_type": "code",
   "execution_count": null,
   "id": "560eef26",
   "metadata": {},
   "outputs": [],
   "source": []
  },
  {
   "cell_type": "code",
   "execution_count": null,
   "id": "d8a44130",
   "metadata": {},
   "outputs": [],
   "source": []
  },
  {
   "cell_type": "code",
   "execution_count": null,
   "id": "19074871",
   "metadata": {},
   "outputs": [],
   "source": []
  },
  {
   "cell_type": "code",
   "execution_count": null,
   "id": "8c8ea15b",
   "metadata": {},
   "outputs": [],
   "source": []
  },
  {
   "cell_type": "code",
   "execution_count": null,
   "id": "8be26ee2",
   "metadata": {},
   "outputs": [],
   "source": []
  },
  {
   "cell_type": "code",
   "execution_count": null,
   "id": "8bfcd53f",
   "metadata": {},
   "outputs": [],
   "source": []
  },
  {
   "cell_type": "code",
   "execution_count": null,
   "id": "314da0b3",
   "metadata": {},
   "outputs": [],
   "source": []
  },
  {
   "cell_type": "code",
   "execution_count": null,
   "id": "946d5a75",
   "metadata": {},
   "outputs": [],
   "source": []
  },
  {
   "cell_type": "code",
   "execution_count": null,
   "id": "7ef508c5",
   "metadata": {},
   "outputs": [],
   "source": []
  },
  {
   "cell_type": "code",
   "execution_count": null,
   "id": "409e22cd",
   "metadata": {},
   "outputs": [],
   "source": []
  },
  {
   "cell_type": "code",
   "execution_count": null,
   "id": "d3d76a1d",
   "metadata": {},
   "outputs": [],
   "source": []
  }
 ],
 "metadata": {
  "kernelspec": {
   "display_name": "Python 3 (ipykernel)",
   "language": "python",
   "name": "python3"
  },
  "language_info": {
   "codemirror_mode": {
    "name": "ipython",
    "version": 3
   },
   "file_extension": ".py",
   "mimetype": "text/x-python",
   "name": "python",
   "nbconvert_exporter": "python",
   "pygments_lexer": "ipython3",
   "version": "3.9.13"
  }
 },
 "nbformat": 4,
 "nbformat_minor": 5
}
